{
 "cells": [
  {
   "cell_type": "code",
   "execution_count": 2,
   "id": "1a6966e1",
   "metadata": {},
   "outputs": [],
   "source": [
    "from flask import Flask"
   ]
  },
  {
   "cell_type": "code",
   "execution_count": null,
   "id": "fbdb15da",
   "metadata": {},
   "outputs": [
    {
     "name": "stdout",
     "output_type": "stream",
     "text": [
      " * Serving Flask app \"__main__\" (lazy loading)\n",
      " * Environment: production\n",
      "\u001b[31m   WARNING: This is a development server. Do not use it in a production deployment.\u001b[0m\n",
      "\u001b[2m   Use a production WSGI server instead.\u001b[0m\n",
      " * Debug mode: off\n"
     ]
    },
    {
     "name": "stderr",
     "output_type": "stream",
     "text": [
      " * Running on http://127.0.0.1:5000/ (Press CTRL+C to quit)\n",
      "127.0.0.1 - - [26/Oct/2023 23:39:31] \"GET / HTTP/1.1\" 200 -\n"
     ]
    }
   ],
   "source": [
    "import random\n",
    "from flask import Flask, jsonify\n",
    "\n",
    "app = Flask(__name__)\n",
    "\n",
    "def generate_list():\n",
    "    my_list = [\"item1\", \"item2\", \"item3\"]\n",
    "    return my_list\n",
    "\n",
    "def welcome():\n",
    "    m = \"Aircraft Route Optimization with Genetic Algorithm!\"\n",
    "    return m\n",
    "\n",
    "def generate_random_combinations():\n",
    "    # List of countries\n",
    "    countries = ['Multan', 'Islamabad', 'Peshawar', 'Karachi', 'Quetta']\n",
    "\n",
    "    num_routes = random.randint(5, 10)\n",
    "    random_routes = [random.sample(countries, len(countries)) for _ in range(num_routes)]\n",
    "\n",
    "    combinations_dict = {}\n",
    "\n",
    "    # Generate and store 3 combinations for each route\n",
    "    for i, country_list in enumerate(random_routes, 1):\n",
    "        combinations_dict[f\"Route {i}\"] = []\n",
    "\n",
    "        comb = random.sample(country_list, 3)\n",
    "        combinations_dict[f\"Route {i}\"].append(comb)\n",
    "\n",
    "    return combinations_dict\n",
    "\n",
    "@app.route(\"/\")\n",
    "def hello():\n",
    "    # Call the welcome function to get the first heading\n",
    "    headingline = welcome()\n",
    "\n",
    "    my_list = generate_list()\n",
    "    items = \" -> \".join(my_list)\n",
    "\n",
    "    # Generate random route combinations\n",
    "    route_combinations = generate_random_combinations()\n",
    "\n",
    "    # Convert route combinations to a formatted string\n",
    "    route_combinations_str = \"<br>\".join([f\"<b>{route}:</b> {', '.join(map(str, countries))}\" for route, countries in route_combinations.items()])\n",
    "\n",
    "    return f'''\n",
    "    <html>\n",
    "    <head>\n",
    "    <title>Welcome to Aircraft Route Optimization with Genetic Algorithm!</title>\n",
    "    <h style=\"font-size: 36px;\"><strong>Welcome to Aircraft Route Optimization with Genetic Algorithm!</strong></h>\n",
    "\n",
    "        <style>\n",
    "            body {{\n",
    "                background-color: green;\n",
    "                font-family: Arial, sans-serif;\n",
    "                text-align: center;\n",
    "            }}\n",
    "            ul {{\n",
    "                list-style: none;\n",
    "                padding: 0;\n",
    "            }}\n",
    "            .centered {{\n",
    "                text-align: center;\n",
    "                margin: 20px;\n",
    "            }}\n",
    "            .rounded-box {{\n",
    "                background-color: white;\n",
    "                border-radius: 10px;\n",
    "                padding: 20px;\n",
    "                display: inline-block;\n",
    "            }}\n",
    "            h1 {{\n",
    "                color: green;\n",
    "            }}\n",
    "            h2 {{\n",
    "                color: green;\n",
    "            }}\n",
    "            b {{\n",
    "                font-weight: bold;\n",
    "            }}\n",
    "        </style>\n",
    "    </head>\n",
    "    <body>\n",
    "        <h1>{headingline}</h1>\n",
    "        <div class=\"centered\">\n",
    "            <div class=\"rounded-box\">\n",
    "                <ul>\n",
    "                    <li>{items}</li>\n",
    "                </ul>\n",
    "            </div>\n",
    "            <h2>Random Route Combinations</h2>\n",
    "            <p>{route_combinations_str}</p>\n",
    "        </div>\n",
    "    </body>\n",
    "    </html>\n",
    "    '''\n",
    "\n",
    "if __name__ == \"__main__\":\n",
    "    app.run()\n"
   ]
  },
  {
   "cell_type": "code",
   "execution_count": null,
   "id": "85b69726",
   "metadata": {},
   "outputs": [],
   "source": [
    "one min"
   ]
  }
 ],
 "metadata": {
  "kernelspec": {
   "display_name": "Python 3 (ipykernel)",
   "language": "python",
   "name": "python3"
  },
  "language_info": {
   "codemirror_mode": {
    "name": "ipython",
    "version": 3
   },
   "file_extension": ".py",
   "mimetype": "text/x-python",
   "name": "python",
   "nbconvert_exporter": "python",
   "pygments_lexer": "ipython3",
   "version": "3.9.12"
  }
 },
 "nbformat": 4,
 "nbformat_minor": 5
}
